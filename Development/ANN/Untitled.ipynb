{
 "cells": [
  {
   "cell_type": "code",
   "execution_count": 23,
   "metadata": {},
   "outputs": [],
   "source": [
    "import os\n",
    "import tkinter as tk\n",
    "\n",
    "# 窗口主体框架 \n",
    "window = tk.Tk()\n",
    "window.title('NIVG_LM_29_Prediction')\n",
    "window.geometry('500x500')\n",
    "scrollbar = Scrollbar(window)\n",
    "scrollbar.pack(side=RIGHT, fill=Y)\n",
    "\n",
    "var1=tk.StringVar()\n",
    "l=tk.Label(window,bg='yellow',width=4,textvariable=var1)\n",
    "l.pack()\n",
    "\n",
    "def print_selection():\n",
    "    value=lb.get(lb.curselection())\n",
    "    var1.set(value)\n",
    "    \n",
    "b1 = tk.Button(window, text='print selection', width=15,\n",
    "              height=2, command=print_selection)\n",
    "b1.pack()\n",
    "\n",
    "files = [f for f in os.listdir('.') if os.path.isfile(f)]\n",
    "txt_file = []\n",
    "for f in files:\n",
    "    if f[-3:] == 'csv':\n",
    "        txt_file.append(f)\n",
    "\n",
    "var2=tk.StringVar()\n",
    "var2.set(txt_file)\n",
    "lb=tk.Listbox(window,listvariable=var2)\n",
    "lb.pack()\n",
    "\n",
    "# attach listbox to scrollbar\n",
    "lb.config(yscrollcommand=scrollbar.set, height = 5)\n",
    "scrollbar.config(command=lb.yview)\n",
    "\n",
    "##显示出来\n",
    "window.mainloop()  "
   ]
  },
  {
   "cell_type": "code",
   "execution_count": 25,
   "metadata": {},
   "outputs": [],
   "source": [
    "try:\n",
    "    import tkinter as tk # Python 3 tkinter modules\n",
    "except ImportError:\n",
    "    import Tkinter as tk # Python 2 tkinter modules\n",
    "\n",
    "class App(tk.Frame):\n",
    "    def __init__(self, parent):\n",
    "        tk.Frame.__init__(self, parent)\n",
    "        self.grid(row=0, column=0, sticky='nsew')\n",
    "\n",
    "        self.toggle = True\n",
    "\n",
    "        self.label1 = tk.Label(self, text = 'Click me to see Names of Famous Folks')\n",
    "        self.lbframe = tk.Frame(self)\n",
    "        self.label2 = tk.Label(self, text = 'The World of Famous Folks! Welcome!')\n",
    "\n",
    "        self.label1.grid(row=0, column=0, sticky='nsew', pady=10)\n",
    "        self.lbframe.grid(row=1, column=0, sticky='nsew')\n",
    "        self.label2.grid(row=2, column=0, sticky='nsew')\n",
    "\n",
    "        nlist1 = ['Peter', 'Scotty', 'Walter', 'Scott', 'Mary']\n",
    "        self.lbframe.list_values = tk.StringVar() \n",
    "        self.lbframe.list_values.set(nlist1) \n",
    "        self.lbframe.list= tk.Listbox(self.lbframe, height=5, width= 10,\n",
    "                                      listvariable=self.lbframe.list_values)\n",
    "        self.lbframe.list.grid(row=0, column=0, sticky='nsew')\n",
    "        self.lbframe.list.grid_remove()\n",
    "\n",
    "        self.label1.bind(\"<Button-1>\", self.ShowHideListbox)\n",
    "\n",
    "\n",
    "    def ShowHideListbox(self, event):\n",
    "        if self.toggle: # Show\n",
    "            self.toggle=False\n",
    "            self.lbframe.list.grid()\n",
    "            self.lbframe.list.lift(aboveThis=None)\n",
    "        else: # Hide\n",
    "            self.toggle=True\n",
    "            self.lbframe.list.grid_remove()\n",
    "\n",
    "if __name__ == '__main__':\n",
    "    root = tk.Tk()\n",
    "    app = App(root)\n",
    "    app.mainloop()"
   ]
  },
  {
   "cell_type": "code",
   "execution_count": 36,
   "metadata": {},
   "outputs": [
    {
     "data": {
      "text/plain": [
       "'C:\\\\Users\\\\richard.weng\\\\Documents\\\\Python Scripts\\\\python_projects\\\\(1) NIVG Project\\\\Development\\\\ANN\\\\kkkkkcsv'"
      ]
     },
     "execution_count": 36,
     "metadata": {},
     "output_type": "execute_result"
    }
   ],
   "source": [
    "os.path.abspath('kk')+'kkk'+'csv'"
   ]
  },
  {
   "cell_type": "code",
   "execution_count": 34,
   "metadata": {},
   "outputs": [
    {
     "data": {
      "text/plain": [
       "['.ipynb_checkpoints',\n",
       " 'ANN_Levenberg_Marquardt-based method by Option method for glucose simulation.ipynb',\n",
       " 'ANN_Levenberg_Marquardt-based method by Option method for glucose simulation.py',\n",
       " 'ANN_Levenberg_Marquardt-based method for glucose simulation.py',\n",
       " 'events.out.tfevents.1542009217.TWTY2NB1726',\n",
       " 'events.out.tfevents.1542009284.TWTY2NB1726',\n",
       " 'test',\n",
       " 'train']"
      ]
     },
     "execution_count": 34,
     "metadata": {},
     "output_type": "execute_result"
    }
   ],
   "source": [
    "os.listdir('logs')"
   ]
  },
  {
   "cell_type": "code",
   "execution_count": null,
   "metadata": {},
   "outputs": [],
   "source": []
  }
 ],
 "metadata": {
  "kernelspec": {
   "display_name": "Python 3",
   "language": "python",
   "name": "python3"
  },
  "language_info": {
   "codemirror_mode": {
    "name": "ipython",
    "version": 3
   },
   "file_extension": ".py",
   "mimetype": "text/x-python",
   "name": "python",
   "nbconvert_exporter": "python",
   "pygments_lexer": "ipython3",
   "version": "3.7.0"
  }
 },
 "nbformat": 4,
 "nbformat_minor": 2
}
