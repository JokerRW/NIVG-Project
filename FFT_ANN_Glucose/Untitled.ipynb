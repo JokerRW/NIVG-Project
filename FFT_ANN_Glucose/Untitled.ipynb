{
 "cells": [
  {
   "cell_type": "code",
   "execution_count": 15,
   "metadata": {},
   "outputs": [],
   "source": [
    "import os\n",
    "files = [f for f in os.listdir('Parameter') if os.path.isfile(os.path.abspath('Parameter')+'\\\\'+f)]\n",
    "LM_para_file = []\n",
    "for f in files:\n",
    "    if f[-13:] == 'parameter.csv':\n",
    "        LM_para_file.append(f[:-4])"
   ]
  },
  {
   "cell_type": "code",
   "execution_count": 16,
   "metadata": {},
   "outputs": [
    {
     "data": {
      "text/plain": [
       "['ANN_training_data_0122_LM_parameter',\n",
       " 'ANN_training_data_AC_combination_0122_LM_parameter',\n",
       " 'ANN_training_Newjig_0213_all_LM_parameter']"
      ]
     },
     "execution_count": 16,
     "metadata": {},
     "output_type": "execute_result"
    }
   ],
   "source": [
    "LM_para_file"
   ]
  },
  {
   "cell_type": "code",
   "execution_count": 23,
   "metadata": {},
   "outputs": [],
   "source": [
    "files = [f for f in os.listdir('Raw data') if os.path.isfile(os.path.abspath('Raw data')+'\\\\'+f)]\n",
    "txt_file = [f for f in files if f[-3:] == 'txt']"
   ]
  },
  {
   "cell_type": "code",
   "execution_count": 24,
   "metadata": {},
   "outputs": [
    {
     "data": {
      "text/plain": [
       "['0905-1_Volts_20190122_090921.txt',\n",
       " '1107-1_Volts_20190212_111017.txt',\n",
       " '1120-1_Volts_20190212_112155.txt',\n",
       " '1210-2_Volts_20190212_121434.txt',\n",
       " '1318-1_Volts_20190212_132122.txt',\n",
       " '1355-1_Volts_20181217_135911.txt',\n",
       " '1405-1_Volts_20190212_140521.txt',\n",
       " '1405-2_Volts_20190212_140722.txt',\n",
       " '1505-1_Volts_20190212_150535.txt',\n",
       " '1505-2_Volts_20190212_150721.txt',\n",
       " '1710-1_Volts_20190212_171048.txt',\n",
       " '1830-1_Volts_20190212_183409.txt',\n",
       " '1915-1_Volts_20181204_191748.txt']"
      ]
     },
     "execution_count": 24,
     "metadata": {},
     "output_type": "execute_result"
    }
   ],
   "source": [
    "txt_file"
   ]
  },
  {
   "cell_type": "code",
   "execution_count": 28,
   "metadata": {},
   "outputs": [],
   "source": [
    "base = os.path.splitext(os.path.abspath('Raw data')+'\\\\'+f)"
   ]
  },
  {
   "cell_type": "code",
   "execution_count": 29,
   "metadata": {},
   "outputs": [
    {
     "data": {
      "text/plain": [
       "('C:\\\\Users\\\\richard.weng\\\\Documents\\\\Python Scripts\\\\python_projects\\\\(1) NIVG Project\\\\FFT_ANN_Glucose\\\\Raw data\\\\1505-2_Volts_20190212_150721',\n",
       " '.xls')"
      ]
     },
     "execution_count": 29,
     "metadata": {},
     "output_type": "execute_result"
    }
   ],
   "source": [
    "base"
   ]
  },
  {
   "cell_type": "code",
   "execution_count": 27,
   "metadata": {},
   "outputs": [
    {
     "data": {
      "text/plain": [
       "'C:\\\\Users\\\\richard.weng\\\\Documents\\\\Python Scripts\\\\python_projects\\\\(1) NIVG Project\\\\FFT_ANN_Glucose\\\\Raw data\\\\1505-2_Volts_20190212_150721.xls'"
      ]
     },
     "execution_count": 27,
     "metadata": {},
     "output_type": "execute_result"
    }
   ],
   "source": [
    "os.path.abspath('Raw data')+'\\\\'+f"
   ]
  },
  {
   "cell_type": "code",
   "execution_count": null,
   "metadata": {},
   "outputs": [],
   "source": []
  }
 ],
 "metadata": {
  "kernelspec": {
   "display_name": "Python 3",
   "language": "python",
   "name": "python3"
  },
  "language_info": {
   "codemirror_mode": {
    "name": "ipython",
    "version": 3
   },
   "file_extension": ".py",
   "mimetype": "text/x-python",
   "name": "python",
   "nbconvert_exporter": "python",
   "pygments_lexer": "ipython3",
   "version": "3.7.0"
  }
 },
 "nbformat": 4,
 "nbformat_minor": 2
}
