{
 "cells": [
  {
   "cell_type": "code",
   "execution_count": null,
   "metadata": {},
   "outputs": [],
   "source": [
    "import pandas as pd\n",
    "f = open('0854-2_Volts_20181120_085550.txt', 'r')\n",
    "lines = f.readlines()\n",
    "newlines = []\n",
    "for line in lines:\n",
    "    # 用「\",」切開每一行，看是否被切成17個\n",
    "    if len(line.split('\\t')) == 6:        \n",
    "        # 將 line 加到新的 newlines 中\n",
    "        newlines.append(line.split())\n",
    "newlines\n",
    "df = pd.DataFrame(newlines,columns = ['Ch : LED 2','Ch : LED 3','Ch : LED 1','x','xx','xxx'] )\n",
    "df = df.iloc[:,0:3]\n",
    "f.close()"
   ]
  },
  {
   "cell_type": "code",
   "execution_count": null,
   "metadata": {},
   "outputs": [],
   "source": [
    "import pandas as pd\n",
    "import os\n",
    "#Change file type\n",
    "fileName = 'test22'# 請在這裡更換檔名\n",
    "Topic_file_path = 'C:\\\\Users\\\\richard.weng\\\\Documents\\\\Python Scripts\\\\python_projects\\\\(1) NIVG Project\\\\Glucose FFT\\\\'+fileName+'.xls'\n",
    "base = os.path.splitext(Topic_file_path)[0]\n",
    "os.rename(Topic_file_path, base + \".txt\")"
   ]
  },
  {
   "cell_type": "code",
   "execution_count": null,
   "metadata": {},
   "outputs": [],
   "source": [
    "import os\n",
    "Topic_file_dir = 'C:\\\\Users\\\\richard.weng\\\\Documents\\\\Python Scripts\\\\python_projects\\\\(1) NIVG Project\\\\Glucose FFT'\n",
    "files = [f for f in os.listdir(Topic_file_dir) if os.path.isfile(f)]\n",
    "for f in files:\n",
    "    if f[-3:] == 'xls':\n",
    "        print (f)   \n",
    "# print(files)"
   ]
  },
  {
   "cell_type": "code",
   "execution_count": null,
   "metadata": {},
   "outputs": [],
   "source": [
    "jj= '0854-2_Volts_20181120_085550.txt'\n",
    "jj[-3:]"
   ]
  },
  {
   "cell_type": "code",
   "execution_count": 6,
   "metadata": {},
   "outputs": [
    {
     "name": "stdout",
     "output_type": "stream",
     "text": [
      "ss\n",
      "ss.txt\n"
     ]
    }
   ],
   "source": [
    "x = input()\n",
    "f = str(x)+str('.txt')\n",
    "print(f)"
   ]
  },
  {
   "cell_type": "code",
   "execution_count": null,
   "metadata": {},
   "outputs": [],
   "source": []
  }
 ],
 "metadata": {
  "kernelspec": {
   "display_name": "Python 3",
   "language": "python",
   "name": "python3"
  },
  "language_info": {
   "codemirror_mode": {
    "name": "ipython",
    "version": 3
   },
   "file_extension": ".py",
   "mimetype": "text/x-python",
   "name": "python",
   "nbconvert_exporter": "python",
   "pygments_lexer": "ipython3",
   "version": "3.7.0"
  }
 },
 "nbformat": 4,
 "nbformat_minor": 2
}
